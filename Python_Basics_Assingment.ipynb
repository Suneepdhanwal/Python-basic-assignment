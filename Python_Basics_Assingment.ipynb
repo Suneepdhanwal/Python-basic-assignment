{
  "nbformat": 4,
  "nbformat_minor": 0,
  "metadata": {
    "colab": {
      "provenance": []
    },
    "kernelspec": {
      "name": "python3",
      "display_name": "Python 3"
    },
    "language_info": {
      "name": "python"
    }
  },
  "cells": [
    {
      "cell_type": "markdown",
      "source": [
        "# **Theory** **Questions**"
      ],
      "metadata": {
        "id": "i9UjpGJ1D_hz"
      }
    },
    {
      "cell_type": "markdown",
      "source": [
        "Que.1 What is Python, and why is it popular ?\n",
        "\n",
        "Ans.1 Python is a high level, interprated programing language. it is popular for its simplicity, readbility, easy to learn syntax, large library and versatility in various domain such as data analysis, web development, AI and more.\n"
      ],
      "metadata": {
        "id": "A-zzG805w2O6"
      }
    },
    {
      "cell_type": "markdown",
      "source": [
        "Ques.2 What is an interpreter in Python?\n",
        "\n",
        "Ans.2 Python is a high level program which converts python code into machine code."
      ],
      "metadata": {
        "id": "tPn_9OEtycO5"
      }
    },
    {
      "cell_type": "markdown",
      "source": [
        "Ques.3 What are pre-defined keywords in Python?\n",
        "\n",
        "Ans.3 Pre-defined keywords in python are integers, float, boolean, string, complex number, None, list, if, else, elif, for, while, and, or etc."
      ],
      "metadata": {
        "id": "6USek8CeybJx"
      }
    },
    {
      "cell_type": "markdown",
      "source": [
        "Ques.4 Can keywords be used as variable names?\n",
        "\n",
        "Ans.4 No, we can not use key words as variable names because they are reserved and has special meaning in python."
      ],
      "metadata": {
        "id": "VFF8Vr-E0qAp"
      }
    },
    {
      "cell_type": "markdown",
      "source": [
        "Ques.5 What is mutability in Python?\n",
        "\n",
        "Ans.5 Object whose state or value can be changed after they are created, this ability of changing is known as mutability. List is a type of mutable object."
      ],
      "metadata": {
        "id": "6VDzCKs_0puh"
      }
    },
    {
      "cell_type": "markdown",
      "source": [
        "Ques.6 Why are lists mutable, but tuples are immutable?\n",
        "\n",
        "Ans.6 List are mutable because content in list can be modified or changed but in tuples its content can not be modified or changed."
      ],
      "metadata": {
        "id": "9K9yONyX0pjZ"
      }
    },
    {
      "cell_type": "markdown",
      "source": [
        "Ques.7 What is the difference between “==” and “is” operators in Python?\n",
        "\n",
        "Ans 7 \"==\" is a comparision operator which compare value of two object and \"is\" is a identity operator which compare memory space of two objects."
      ],
      "metadata": {
        "id": "VxSNPVLT0paZ"
      }
    },
    {
      "cell_type": "markdown",
      "source": [
        "Ques. 8 What are logical operators in Python?\n",
        "\n",
        "Ans.8 Logical operators are the operators which combine conditions and executes them to a boolean value true or false.\n",
        "logical operators are AND, OR and NOT."
      ],
      "metadata": {
        "id": "VrlI-5MU0pEx"
      }
    },
    {
      "cell_type": "markdown",
      "source": [
        "Ques.9 What is type casting in Python?\n",
        "\n",
        "Ans.9 The process of changing data type of a value/object is known as type casting."
      ],
      "metadata": {
        "id": "Xj6rXs2p__Eq"
      }
    },
    {
      "cell_type": "markdown",
      "source": [
        "Ques.10 What is the difference between implicit and explicit type casting?\n",
        "\n",
        "Ans.10 Implict type casting is handled automatical by complier and explict type casting is handled manually by programmer."
      ],
      "metadata": {
        "id": "slQp2wF__-_S"
      }
    },
    {
      "cell_type": "markdown",
      "source": [
        "Ques.11 What is the purpose of conditional statements in Python?\n",
        "\n",
        "Ans.11 Purpose of conditional statements in paython is to make decision and execute blocks of codes based on conditions wheather condition is true or false."
      ],
      "metadata": {
        "id": "HIRYgpmv_-rj"
      }
    },
    {
      "cell_type": "markdown",
      "source": [
        "Ques.12 How does the elif statement work?\n",
        "\n",
        "Ans.12 Elif statement works on more than 2 condition when if condition is false."
      ],
      "metadata": {
        "id": "D1IirBE0Bq-b"
      }
    },
    {
      "cell_type": "markdown",
      "source": [
        "Ques.13 What is the difference between for and while loops?\n",
        "\n",
        "Ans.13 For loop iterate over sequence of element when the no. of iteration is know and While loop repeatdly executes the block of code intil condition is true and when no. of iteration is known."
      ],
      "metadata": {
        "id": "HBVHPHS9Bq7i"
      }
    },
    {
      "cell_type": "markdown",
      "source": [
        "Ques.14 Describe a scenario where a while loop is more suitable than a for loop.\n",
        "\n",
        "Ans.14 scenerio where a while loop is more suitable than for loop is when no of iteration/loop is not known and works on dynamic conditions."
      ],
      "metadata": {
        "id": "Yg_5b6XlBq4y"
      }
    },
    {
      "cell_type": "markdown",
      "source": [
        "# **Practical Questions**"
      ],
      "metadata": {
        "id": "0UafenJJESvC"
      }
    },
    {
      "cell_type": "markdown",
      "source": [
        "Ques.1 Write a Python program to print \"Hello, World!?"
      ],
      "metadata": {
        "id": "_UgdRfpJEgBB"
      }
    },
    {
      "cell_type": "code",
      "source": [
        "#Ans.1\n",
        "print(\"Hello, World!\")"
      ],
      "metadata": {
        "colab": {
          "base_uri": "https://localhost:8080/"
        },
        "id": "zmiK32IK4jMC",
        "outputId": "b9defcca-2e87-450e-97e2-eb2ed1d7c953"
      },
      "execution_count": null,
      "outputs": [
        {
          "output_type": "stream",
          "name": "stdout",
          "text": [
            "Hello, World!\n"
          ]
        }
      ]
    },
    {
      "cell_type": "markdown",
      "source": [
        "Ques.2 Write a Python program that displays your name and age."
      ],
      "metadata": {
        "id": "Ow5WPzx2E-0L"
      }
    },
    {
      "cell_type": "code",
      "source": [
        "#Ans.2\n",
        "name = input(\"Enter your name:\")\n",
        "age = int(input(\"enter your age: \"))"
      ],
      "metadata": {
        "colab": {
          "base_uri": "https://localhost:8080/"
        },
        "id": "oKe904cGE0WS",
        "outputId": "1aa0f218-6901-48b9-d6a5-229a41ee8d0e"
      },
      "execution_count": null,
      "outputs": [
        {
          "name": "stdout",
          "output_type": "stream",
          "text": [
            "Enter your name:Suneep dhanwal\n",
            "enter your age: 26\n"
          ]
        }
      ]
    },
    {
      "cell_type": "markdown",
      "source": [
        "Ques.3 Write code to print all the pre-defined keywords in Python using the keyword library."
      ],
      "metadata": {
        "id": "kShCtDzlFgQb"
      }
    },
    {
      "cell_type": "code",
      "source": [
        "#Ans.3\n",
        "help('keywords')"
      ],
      "metadata": {
        "colab": {
          "base_uri": "https://localhost:8080/"
        },
        "id": "8W3gVD8EFmda",
        "outputId": "a266a122-bebc-4d54-e0e4-0c354be07697"
      },
      "execution_count": null,
      "outputs": [
        {
          "output_type": "stream",
          "name": "stdout",
          "text": [
            "\n",
            "Here is a list of the Python keywords.  Enter any keyword to get more help.\n",
            "\n",
            "False               class               from                or\n",
            "None                continue            global              pass\n",
            "True                def                 if                  raise\n",
            "and                 del                 import              return\n",
            "as                  elif                in                  try\n",
            "assert              else                is                  while\n",
            "async               except              lambda              with\n",
            "await               finally             nonlocal            yield\n",
            "break               for                 not                 \n",
            "\n"
          ]
        }
      ]
    },
    {
      "cell_type": "markdown",
      "source": [
        "Ques.4 Write a program that checks if a given word is a Python keyword."
      ],
      "metadata": {
        "id": "F8m0FPrNFgVa"
      }
    },
    {
      "cell_type": "code",
      "source": [
        "#Ans.4\n",
        "import keyword\n",
        "keyword.iskeyword('if')"
      ],
      "metadata": {
        "colab": {
          "base_uri": "https://localhost:8080/"
        },
        "id": "4u3qVONKGNGq",
        "outputId": "983659c4-75f9-44a5-ecb6-02d0abf1799e"
      },
      "execution_count": null,
      "outputs": [
        {
          "output_type": "execute_result",
          "data": {
            "text/plain": [
              "True"
            ]
          },
          "metadata": {},
          "execution_count": 7
        }
      ]
    },
    {
      "cell_type": "markdown",
      "source": [
        "Ques.5 Create a list and tuple in Python, and demonstrate how attempting to change an element works differently for each."
      ],
      "metadata": {
        "id": "estaK84DG_77"
      }
    },
    {
      "cell_type": "code",
      "source": [
        "#Ans.5 creating my List\n",
        "my_list = [1,2,3,4,5]\n",
        "my_list[-1] = 15     #changist list item(-1).\n",
        "print(my_list)\n",
        "\n",
        "#List supports item assingment.\n",
        "\n",
        "\n",
        "# creating my tuple\n",
        "my_tuple = (1,2,3,4,5)\n",
        "my_tuple[-1] = 15   #changist list item(-1).\n",
        "print(my_tuple)\n",
        "\n",
        "# tuple does not support item assingment."
      ],
      "metadata": {
        "id": "j662eiodJHYb"
      },
      "execution_count": null,
      "outputs": []
    },
    {
      "cell_type": "markdown",
      "source": [
        "Ques.6 Write a function to demonstrate the behavior of mutable and immutable arguments."
      ],
      "metadata": {
        "id": "AYTxrffmNf_8"
      }
    },
    {
      "cell_type": "code",
      "source": [
        "#Ans.6\n",
        "#Immuatable argument - string\n",
        "string = (\"My name is Suneep\")\n",
        "string[0] = (\"My name is Kuldeep\") #tring to modify string(immutable)\n",
        "print(string)   #Error will be generated \"string does not support item assingment\"\n",
        "\n",
        "#mutable argument - List\n",
        "\n",
        "my_list = [1,2,3,4,5]\n",
        "my_list[3] = 8         #trying to modify list item(3).\n",
        "print(my_list) #my_list will be printed.\n"
      ],
      "metadata": {
        "id": "-J-9UlalNklb"
      },
      "execution_count": null,
      "outputs": []
    },
    {
      "cell_type": "markdown",
      "source": [
        "   Ques.7 Write a function to demonstrate the behavior of mutable and immutable arguments."
      ],
      "metadata": {
        "id": "OaHNDvBPJIfS"
      }
    },
    {
      "cell_type": "code",
      "source": [
        "#Ans.7\n",
        "#Immuatable argument - string\n",
        "string = (\"My name is Suneep\")\n",
        "string[0] = (\"My name is Kuldeep\") #tring to modify string(immutable)\n",
        "print(string)   #Error will be generated \"string does not support item assingment\"\n",
        "\n",
        "#mutable argument - List\n",
        "\n",
        "my_list = [1,2,3,4,5]\n",
        "my_list[3] = 8         #trying to modify list item(3).\n",
        "print(my_list) #my_list will be printed."
      ],
      "metadata": {
        "id": "c821N28DRN_j"
      },
      "execution_count": null,
      "outputs": []
    },
    {
      "cell_type": "markdown",
      "source": [
        "Ques.8 Write a program to demonstrate the use of logical operators."
      ],
      "metadata": {
        "id": "gMOJGz9oRvHz"
      }
    },
    {
      "cell_type": "code",
      "source": [
        "#Ans.8\n",
        "\n",
        "#logical operator example\n",
        "\n",
        "x = True\n",
        "y = False\n",
        "\n",
        "#Logical And Operator.\n",
        "\n",
        "print(f\"x and y: {x and y}\") # Result False\n",
        "\n",
        "#Logical or Operator.\n",
        "\n",
        "print(f\"x or y: {x or y}\") # Result True\n",
        "\n",
        "#Logical Not Operator.\n",
        "\n",
        "print(f\"not x: {not x}\") #result False\n",
        "print(f\"not y: {not y}\") #result True\n"
      ],
      "metadata": {
        "id": "xHwLcRYtSj8b"
      },
      "execution_count": null,
      "outputs": []
    },
    {
      "cell_type": "markdown",
      "source": [
        "Ques.9 Write a Python program to convert user input from string to integer, float, and boolean types."
      ],
      "metadata": {
        "id": "Lul4vy9vURXC"
      }
    },
    {
      "cell_type": "code",
      "source": [
        "#Ans.9\n",
        "\n",
        "#converting user input to string, float and boolean.\n",
        "\n",
        "user_input = input(\"Enter a value: \")\n",
        "print(\"string:\", user_input)\n",
        "\n",
        "#integer conversion\n",
        "\n",
        "user_input = int(user_input)\n",
        "print(\"integer:\", user_input)\n",
        "\n",
        "# Float conversion\n",
        "\n",
        "user_input = float(user_input)\n",
        "print(\"float:\", user_input)\n",
        "\n",
        "#boolean conversion\n",
        "\n",
        "user_input = bool(user_input)\n",
        "print(\"boolean:\", user_input)\n",
        "\n",
        "\n",
        "\n"
      ],
      "metadata": {
        "id": "6KwIbOWjUb4L"
      },
      "execution_count": null,
      "outputs": []
    },
    {
      "cell_type": "markdown",
      "source": [
        "Ques.10 Write code to demonstrate type casting with list elements."
      ],
      "metadata": {
        "id": "8_9Ixg9bXpPL"
      }
    },
    {
      "cell_type": "code",
      "source": [
        "#Ans.10\n",
        "#creating list element to demonstate type casting.\n",
        "\n",
        "my_list = [1,2.3,\"30\", True]\n",
        "\n",
        "#converting all list element to integer\n",
        "int_list = [int(x)for x in my_list]\n",
        "print(\"int_list: \", int_list)\n",
        "\n",
        "#converting all list element to string\n",
        "str_list = [str(x)for x in my_list]\n",
        "print(\"str_list: \", str_list)\n"
      ],
      "metadata": {
        "id": "KBu8g-JpYR-0"
      },
      "execution_count": null,
      "outputs": []
    },
    {
      "cell_type": "markdown",
      "source": [
        "Ques.11 Write a program that checks if a number is positive, negative, or zero."
      ],
      "metadata": {
        "id": "ggsTfH83Z9WT"
      }
    },
    {
      "cell_type": "code",
      "source": [
        "#Ans.11\n",
        "\n",
        "#Program that checks if a number is positive, negative, or zero.\n",
        "n = float(input(\"enter a number\"))\n",
        "\n",
        "if n<0:\n",
        "  print(\"number is negative\")\n",
        "elif n==0:\n",
        "  print(\"number is zero\")\n",
        "else:\n",
        "  print(\"number is positive\")\n"
      ],
      "metadata": {
        "id": "-T10tqRrZ80V"
      },
      "execution_count": null,
      "outputs": []
    },
    {
      "cell_type": "markdown",
      "source": [
        "Ques.12 Write a for loop to print numbers from 1 to 10."
      ],
      "metadata": {
        "id": "ISDWgzaXdhPM"
      }
    },
    {
      "cell_type": "code",
      "source": [
        "#Ans.12\n",
        "\n",
        "#For Loop\n",
        "for i in range(1,11):\n",
        "  print(i)"
      ],
      "metadata": {
        "id": "Smncf7kYez_s"
      },
      "execution_count": null,
      "outputs": []
    },
    {
      "cell_type": "markdown",
      "source": [
        "Ques.13 Write a Python program to find the sum of all even numbers between 1 and 50."
      ],
      "metadata": {
        "id": "l_iRw_2jf2w8"
      }
    },
    {
      "cell_type": "code",
      "source": [
        "#Ans.13\n",
        "\n",
        "#sum of all even numbers between 1 and 50.\n",
        "\n",
        "number = 0\n",
        "for i in range(1,51): #range selected 0-51\n",
        "  if i%2==0:\n",
        "    number = number+i\n",
        "print(\"sum of even number between 1 and 50:\", number)"
      ],
      "metadata": {
        "id": "21psZ8ZugTes"
      },
      "execution_count": null,
      "outputs": []
    },
    {
      "cell_type": "markdown",
      "source": [
        "Ques.14 Write a program to reverse a string using a while loop."
      ],
      "metadata": {
        "id": "xYZ90lXniSuE"
      }
    },
    {
      "cell_type": "code",
      "source": [
        "#Ans.14\n",
        "\n",
        "#Reverse a string using while loop (Not taught in recorded or live class)\n",
        "\n",
        "def reverse_string(str1):\n",
        "  reversed_str = \"\"\n",
        "  index = len(str1) - 1\n",
        "  while index >= 0:\n",
        "    reversed_str += str1[index]\n",
        "    index -= 1\n",
        "  return reversed_str\n",
        "\n",
        "print(reverse_string(\"Hello World\"))"
      ],
      "metadata": {
        "id": "dW9i8Wr3pY0d"
      },
      "execution_count": null,
      "outputs": []
    },
    {
      "cell_type": "markdown",
      "source": [
        "Ques.15 Write a Python program to calculate the factorial of a number provided by the user using a while loop."
      ],
      "metadata": {
        "id": "_Pc4QPK5rYrF"
      }
    },
    {
      "cell_type": "code",
      "source": [
        "#Ans.15\n",
        "#Get input from the user\n",
        "num = int(input(\"Enter a number: \"))\n",
        "\n",
        "#check if input number is valid\n",
        "if num < 0:\n",
        "  print(\"factorial is not valid for negative number\" )\n",
        "else:\n",
        "# calculate factorial by using While loop\n",
        "  factorial = 1\n",
        "  while num > 0:\n",
        "    factorial *= num\n",
        "    num -= 1\n",
        "  print(\"factorial of\",num , \"is: \", factorial)\n",
        "\n"
      ],
      "metadata": {
        "id": "pyZJU82Bsd5s"
      },
      "execution_count": null,
      "outputs": []
    }
  ]
}